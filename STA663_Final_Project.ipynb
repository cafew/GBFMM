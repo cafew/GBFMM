{
 "cells": [
  {
   "cell_type": "markdown",
   "metadata": {},
   "source": [
    "# 1) Background"
   ]
  },
  {
   "cell_type": "markdown",
   "metadata": {},
   "source": [
    "## Problem:\n",
    "\n",
    "If a researcher is working with longitudinal or panel data, he or she may want to detect latent groupings or clusters in these data. Specifically, for life-course approaches to research, you may want to identify latent trajectories of a behavior or outcome across time.\n",
    "\n",
    "\n",
    "## Outline of Algorithm: \n",
    "\n",
    "The paper I have chosen describes a type of finite mixture algorithm, one for modeling patterns of an outcome of interest as clusters across time. The method is termed by the authors as Group-based Latent Trajectory Modeling, and was developed by Daniel Nagin in 1999.\n",
    "\n",
    "The general specification for the group based latent trajectory models is provided in equations (1) and (2). Equation (1) describes the basic form of the finite mixture model--i.e., summing a finite number of latent groupings believed to compose the underlying population. Since group membership is not observed, the proportion of the $j$ underlying population belonging to each of the latent trajectory groups $\\pi_j$, must be estimated. This requires the aggregation of the $J$ conditional likelihood functions, forming the unconditional probability of the data, $Y_i$ (Nagin 2005).\n",
    "\n",
    "\n",
    "$$P(Y_i) = \\sum_{j}^J \\pi_j P^j (Y_i)\\tag{1}$$ \n",
    "\n",
    "Here, $P(Y_i)$ estimates the unconditional probability of seeing the trajectory of the outcome measure for individual $i$. \n",
    "\n",
    "The key to the \"group-based\" approach is an underlying idea called \"conditional independence.\" The likelihood function this produces is denoted in equation (2). For a give group $j$, conditional independence makes the assumption that the distribution of $y_{it}$ is independent of the observed value of the outcome in prior periods, $y_{it-1}$,  $y_{it-2}$,... This assumption helps to reduce the complexity of the model, and when combined with the EM algorithm, allows for identification of latent trajectory groupings despite the complex nature of the model and data.\n",
    "\n",
    "$$L = \\prod^N P(Y_i)\\tag{2}$$\n"
   ]
  },
  {
   "cell_type": "markdown",
   "metadata": {},
   "source": [
    "## Readme for Python Module: \n",
    "\n",
    "### Group-Based Finite Mixture Models: A Latent Trajectory Approach \n",
    "\n",
    "**Code for course project use only at this time.**\n",
    "\n",
    "Final project for STA 663 \n",
    "* Takes time variable and continuous outcome \n",
    "* Generates latent trajectories (time-dependent clusters) of outcome behavior over time \n",
    "\n",
    "**Dependencies**\n",
    "\n",
    "Required\n",
    "\n",
    "* Python (created using 2.7.x)\n",
    "* Numpy\n",
    "* Scipy \n",
    "* Pymix (https://github.com/klahnakoski/pymix.git)\n",
    "\n",
    "Recommended\n",
    "\n",
    "* ggplot (for trajectory plotting function included in the repository)\n",
    "* pandas (for trajectory plotting function included in the repository)\n",
    "* STAN (for Bayesian alternative specification)\n",
    "* pystan (for Bayesian alternative specification)\n",
    "* rpy2 (for loading in test data from R)"
   ]
  },
  {
   "cell_type": "markdown",
   "metadata": {},
   "source": [
    "# 2) Implementation"
   ]
  },
  {
   "cell_type": "markdown",
   "metadata": {},
   "source": [
    "*Note: I had started to build these distribution functions myself \n",
    "(see py scripts in GitHub repo)\n",
    "but then I discovered a python library with mixture distributions\n",
    "that could be combined and reshaped to estimate these models ('Pymix' package)!*"
   ]
  },
  {
   "cell_type": "code",
   "execution_count": 78,
   "metadata": {
    "collapsed": false
   },
   "outputs": [
    {
     "name": "stdout",
     "output_type": "stream",
     "text": [
      "The rpy2.ipython extension is already loaded. To reload it, use:\n",
      "  %reload_ext rpy2.ipython\n"
     ]
    }
   ],
   "source": [
    "from __future__ import division\n",
    "import os\n",
    "import sys\n",
    "import glob\n",
    "from mixture import *\n",
    "import mixture\n",
    "import numpy as np\n",
    "import pandas as pd\n",
    "from ggplot import *\n",
    "import pandas as pd\n",
    "import pystan\n",
    "%matplotlib inline\n",
    "%precision 4\n",
    "%load_ext rpy2.ipython\n",
    "\n",
    "np.random.seed(34)\n",
    "\n",
    "# ------- #\n",
    "# Normal Mixture #\n",
    "# ------- #\n",
    "# Normal Distribution Functions \n",
    "\n",
    "# Generate Means of Normal Mixture\n",
    "def norm_means(data): \n",
    "    cols = data.shape[1]\n",
    "    return np.repeat(0.0,cols) \n",
    "\n",
    "# Generate Covariance Structure of Normal Mixture based on conditional independence assumption\n",
    "# (See Equation (2) in outline of algorithm)\n",
    "def norm_cov(data):\n",
    "    m = data.shape[1]\n",
    "    covs = np.repeat(1.0,m) \n",
    "    return np.diag(covs)\n",
    "\n",
    "# Single Multivariate Normal distribution function\n",
    "def norm_singdist(ng, data):\n",
    "    m = data.shape[1]\n",
    "    dist = mixture.MultiNormalDistribution(m, \n",
    "        norm_means(data),norm_cov(data))\n",
    "    return dist\n",
    "\n",
    "# Generalize to multiple clusters of multivariate distribution function\n",
    "def norm_multdist(ng, data):\n",
    "    temp = list()\n",
    "    for x in range(ng):\n",
    "        temp.append(norm_singdist(2, data))\n",
    "    return temp\n",
    "\n",
    "# Data functions\n",
    "def build_mix_dat(data):\n",
    "    mixdat = mixture.DataSet()\n",
    "    mixdat.fromArray(data)\n",
    "    return mixdat\n",
    "\n",
    "# Normal Mixture Model \n",
    "def intialize_normal_model(ng, data):\n",
    "    mod_ps = np.repeat(1.0/ng, ng)\n",
    "    if ng ==2:\n",
    "        n1,n2 = norm_multdist(ng, data)\n",
    "        mix_ = mixture.MixtureModel(ng, mod_ps,[n1,n2])\n",
    "    elif ng == 3:  \n",
    "        n1,n2,n3 = norm_multdist(ng, data)\n",
    "        mix_ = mixture.MixtureModel(ng, mod_ps,[n1,n2,n3])\n",
    "    elif ng == 4:  \n",
    "        n1,n2,n3,n4 = norm_multdist(ng, data)\n",
    "        mix_ = mixture.MixtureModel(ng, mod_ps,[n1,n2,n3,n4])\n",
    "    elif ng == 5:  \n",
    "        n1,n2,n3,n4,n5 = norm_multdist(ng, data)\n",
    "        mix_ = mixture.MixtureModel(ng, mod_ps,[n1,n2,n3,n4,n5])\n",
    "    elif ng == 6:  \n",
    "        n1,n2,n3,n4,n5,n6 = norm_multdist(ng, data)\n",
    "        mix_ = mixture.MixtureModel(ng, mod_ps,[n1,n2,n3,n4,n5,n6])\n",
    "    elif ng == 7:  \n",
    "        n1,n2,n3,n4,n5,n6,n7 = norm_multdist(ng, data)\n",
    "        mix_ = mixture.MixtureModel(ng, mod_ps,[n1,n2,n3,n4,n5,n6,n7])\n",
    "    elif ng == 8:  \n",
    "        n1,n2,n3,n4,n5,n6,n7,n8 = norm_multdist(ng, data)\n",
    "        mix_ = mixture.MixtureModel(ng, mod_ps,[n1,n2,n3,n4,n5,n6,n7,n8])\n",
    "    return mix_ \n",
    "\n",
    "# Run Normal Mixture Model\n",
    "def normal_mixmod(ng, data, s=0):\n",
    "    mix_mod = intialize_normal_model(ng, data)\n",
    "    mix_dat = build_mix_dat(data)\n",
    "    mix_mod.modelInitialization(mix_dat)\n",
    "    mix_mod.EM(mix_dat, 40,.2, silent=s)\n",
    "    mix_mod.classify(mix_dat, silent=s)\n",
    "    return mix_mod\n",
    "   \n",
    "# Results \n",
    "def GBFMM(ng,data, s=0): \n",
    "    out = normal_mixmod(ng, data, s=s)\n",
    "    traj = list()\n",
    "    for i in range(ng):\n",
    "        traj.append(out.components[i].distList[0].mu)\n",
    "    return traj\n",
    "\n",
    "# Trajectory Plotting Function\n",
    "def plot_traj(outs):\n",
    "    if len(outs) == 2:\n",
    "        d = {'one' : outs[0], \n",
    "        'two' : outs[1], \n",
    "        'Time': range(1,len(outs[0])+1)}\n",
    "    elif len(outs) == 3:\n",
    "        d = {'one' : outs[0], \n",
    "        'two' : outs[1], \n",
    "        'three' : outs[2], \n",
    "        'Time': range(1,len(outs[0])+1)}\n",
    "    elif len(outs) == 4: \n",
    "        d = {'one' : outs[0], \n",
    "        'two' : outs[1], \n",
    "        'three' : outs[2], \n",
    "        'four' : outs[3], \n",
    "        'Time': range(1,len(outs[0])+1)}\n",
    "    elif len(outs) == 5:\n",
    "        d = {'one' : outs[0], \n",
    "        'two' : outs[1], \n",
    "        'three' : outs[2], \n",
    "        'four' : outs[3], \n",
    "        'five' : outs[4], \n",
    "        'Time': range(1,len(outs[0])+1)}\n",
    "    elif len(outs) == 6:\n",
    "        d = {'one' : outs[0], \n",
    "        'two' : outs[1], \n",
    "        'three' : outs[2], \n",
    "        'four' : outs[3], \n",
    "        'five' : outs[4], \n",
    "        'six' : outs[5], \n",
    "        'Time': range(1,len(outs[0])+1)}\n",
    "    elif len(outs) == 7: \n",
    "        d = {'one' : outs[0],\n",
    "        'two' : outs[1], \n",
    "        'three' : outs[2], \n",
    "        'four' : outs[3], \n",
    "        'five' : outs[4], \n",
    "        'six' : outs[5], \n",
    "        'seven' : outs[6], \n",
    "        'Time': range(1,len(outs[0])+1)}\n",
    "    elif len(outs) == 8:\n",
    "        d = {'one' : outs[0],\n",
    "        'two' : outs[1], \n",
    "        'three' : outs[2], \n",
    "        'four' : outs[3], \n",
    "        'five' : outs[4], \n",
    "        'six' : outs[5], \n",
    "        'seven' : outs[6], \n",
    "        'eight' : outs[7], \n",
    "        'Time': range(1,len(outs[0])+1)}\n",
    "    dat = pd.DataFrame(d) \n",
    "    dm = pd.melt(dat, id_vars=['Time'], var_name='Latent Class', value_name='Value') \n",
    "    print ggplot(dm, aes('Time', 'Value', color='Latent Class')) + \\\n",
    "        geom_point(size=80) + \\\n",
    "        geom_line(size=3) + \\\n",
    "        theme_bw()"
   ]
  },
  {
   "cell_type": "markdown",
   "metadata": {},
   "source": [
    "# 3) Testing"
   ]
  },
  {
   "cell_type": "code",
   "execution_count": 25,
   "metadata": {
    "collapsed": false
   },
   "outputs": [],
   "source": [
    "# ----------- #\n",
    "# Tests for convergence given mixture distributions with given number of groupings\n",
    "# (these also test that the number of latent groups produced equal the number of groups specified)\n",
    "# test_numgroups_3\n",
    "# ----------- #\n",
    "dist3 = MultiNormalDistribution(3, [0.0, 1.0, 3.0], \n",
    "                    [[1.0, 0.1, 0.14], \n",
    "                     [0.2, 1.0, 0.2], \n",
    "                     [0.3, 0.2, 1.0]])\n",
    "data3 = dist3.sampleSet(100)\n",
    "assert len(GBFMM(ng=3, data=data3, s=1)) == 3\n",
    " \n",
    "# test_numgroups_4\n",
    "dist4 = MultiNormalDistribution(4, [0.0, 1.0, 3.0,2.0], \n",
    "                    [[1.0, 0.1, 0.14,0.2], \n",
    "                     [0.2, 1.0, 0.2,0.4], \n",
    "                     [0.3, 0.2, 1.0,0.3], \n",
    "                     [0.3, 0.2, 0.3,1.0]])\n",
    "data4 = dist4.sampleSet(100)\n",
    "assert len(GBFMM(ng=4, data=data4, s=1)) == 4\n",
    "\n",
    "# test_numgroups_5\n",
    "dist5 = MultiNormalDistribution(5, [0.0, 1.0, 3.0,2.0,0.5], \n",
    "                    [[1.0, 0.1, 0.14,0.2,0.1], \n",
    "                     [0.2, 1.0, 0.2,0.4,0.35], \n",
    "                     [0.3, 0.2, 1.0,0.3,0.05], \n",
    "                     [0.3, 0.2, 0.3,1.0,0.32], \n",
    "                     [0.1, 0.22,0.08,.15,1.0]])\n",
    "data5 = dist5.sampleSet(100)\n",
    "assert len(GBFMM(ng=5, data=data5, s=1)) == 5\n",
    "\n",
    "# test_numgroups_6\n",
    "dist6 = MultiNormalDistribution(6, [0.0, 1.0, 3.0,2.0,0.5,1.5], \n",
    "                    [[1.0, 0.1, 0.14,0.2, 0.1, 0.6], \n",
    "                     [0.2, 1.0, 0.2, 0.4, 0.35,0.2], \n",
    "                     [0.3, 0.2, 1.0, 0.3, 0.05,0.0], \n",
    "                     [0.3, 0.2, 0.3, 1.0, 0.32,0.1], \n",
    "                     [0.1, 0.22,0.08,0.15,1.0, 0.25],\n",
    "                     [0.2, 0.1, 0.2, 0.4, 0.35,1.0]])\n",
    "data6 = dist6.sampleSet(1000)\n",
    "assert len(GBFMM(ng=6, data=data6, s=1)) == 6\n",
    "\n",
    "# test_numgroups_7\n",
    "dist7 = MultiNormalDistribution(7, [0.0, 1.0, 3.0,2.0,0.5,1.5,-1.0], \n",
    "                    [[1.0, 0.1, 0.14,0.2, 0.1, 0.6,0.25], \n",
    "                     [0.2, 1.0, 0.2, 0.4, 0.35,0.2, 0.2], \n",
    "                     [0.3, 0.2, 1.0, 0.3, 0.05,0.0, 0.3], \n",
    "                     [0.3, 0.2, 0.3, 1.0, 0.32,0.1, 0.2], \n",
    "                     [0.1, 0.22,0.08,0.15,1.0, 0.25,0.1],\n",
    "                     [0.2, 0.1, 0.2, 0.4, 0.35,1.0, 0.0], \n",
    "                     [0.1, 0.22,0.08,0.15,0.2, 0.15,1.0]])\n",
    "data7 = dist7.sampleSet(1000)\n",
    "assert len(GBFMM(ng=7, data=data7, s=1)) == 7\n",
    "\n",
    "# test_numgroups_8\n",
    "dist8 = MultiNormalDistribution(8, [0.0, 1.0, 3.0,2.0,0.5,1.5,-1.0,1.0], \n",
    "                    [[1.0, 0.1, 0.14,0.2, 0.1, 0.6,0.25,0.2], \n",
    "                     [0.2, 1.0, 0.2, 0.4, 0.35,0.2, 0.2,0.1], \n",
    "                     [0.3, 0.2, 1.0, 0.3, 0.05,0.0, 0.3,0.2], \n",
    "                     [0.3, 0.2, 0.3, 1.0, 0.32,0.1, 0.2,0.35], \n",
    "                     [0.1, 0.22,0.08,0.15,1.0, 0.25,0.1,0.05],\n",
    "                     [0.2, 0.1, 0.2, 0.4, 0.35,1.0, 0.0,0.1], \n",
    "                     [0.1, 0.22,0.08,0.15,0.2, 0.15,1.0,0.3], \n",
    "                     [0.15, 0.2, 0.1, 0.2, 0.2,0.35,0.0,1.0]])\n",
    "data8 = dist8.sampleSet(1000)\n",
    "assert len(GBFMM(ng=8, data=data8, s=1)) == 8\n",
    "\n",
    "# ----------- #\n",
    "# Tests for convergence for small N \n",
    "# ----------- #\n",
    "dist_small_1 = MultiNormalDistribution(3, [0.0, 1.0, 3.0], \n",
    "                    [[1.0, 0.1, 0.14], \n",
    "                     [0.2, 1.0, 0.2], \n",
    "                     [0.3, 0.2, 1.0]])\n",
    "data_small_1 = dist_small_1.sampleSet(30)\n",
    "assert len(GBFMM(ng=3, data=data_small_1, s=1)) == 3\n",
    "\n",
    "dist_small_2 = MultiNormalDistribution(4, [0.0, 1.0, 3.0,2.0], \n",
    "                    [[1.0, 0.1, 0.14,0.2], \n",
    "                     [0.2, 1.0, 0.2,0.4], \n",
    "                     [0.3, 0.2, 1.0,0.3], \n",
    "                     [0.3, 0.2, 0.3,1.0]])\n",
    "data_small_2 = dist_small_2.sampleSet(50)\n",
    "assert len(GBFMM(ng=4, data=data_small_2, s=1)) == 4\n",
    "\n",
    "# ----------- #\n",
    "# Tests for convergence for large N \n",
    "# ----------- #\n",
    "dist_large_1 = MultiNormalDistribution(3, [0.0, 1.0, 3.0], \n",
    "                    [[1.0, 0.1, 0.14], \n",
    "                     [0.2, 1.0, 0.2], \n",
    "                     [0.3, 0.2, 1.0]])\n",
    "data_large_1 = dist_large_1.sampleSet(2000)\n",
    "assert len(GBFMM(ng=3, data=data_large_1, s=1)) == 3\n",
    "\n",
    "dist_large_2 = MultiNormalDistribution(4, [0.0, 1.0, 3.0,2.0], \n",
    "                    [[1.0, 0.1, 0.14,0.2], \n",
    "                     [0.2, 1.0, 0.5,0.4], \n",
    "                     [0.3, 0.2, 1.0,0.3], \n",
    "                     [0.0, 0.4, 0.2,1.0]])\n",
    "data_large_2 = dist_large_2.sampleSet(3000)\n",
    "assert len(GBFMM(ng=4, data=data_large_2, s=1)) == 4"
   ]
  },
  {
   "cell_type": "code",
   "execution_count": 69,
   "metadata": {
    "collapsed": false
   },
   "outputs": [
    {
     "name": "stdout",
     "output_type": "stream",
     "text": [
      "Step 1: log likelihood: -3312.4960746   (diff=-3311.4960746)\n",
      "Step 2: log likelihood: -3298.60641088   (diff=13.8896637209)\n",
      "Step 3: log likelihood: -3263.23596942   (diff=35.3704414607)\n",
      "Step 4: log likelihood: -3187.20997306   (diff=76.0259963601)\n",
      "Step 5: log likelihood: -3094.92279202   (diff=92.2871810369)\n",
      "Step 6: log likelihood: -3027.36520871   (diff=67.5575833093)\n",
      "Step 7: log likelihood: -2996.13875147   (diff=31.2264572371)\n",
      "Step 8: log likelihood: -2980.69605671   (diff=15.4426947604)\n",
      "Step 9: log likelihood: -2969.45658442   (diff=11.2394722896)\n",
      "Step 10: log likelihood: -2958.9513708   (diff=10.505213623)\n",
      "Step 11: log likelihood: -2949.23252172   (diff=9.718849085)\n",
      "Step 12: log likelihood: -2941.73097139   (diff=7.50155032951)\n",
      "Step 13: log likelihood: -2937.35778592   (diff=4.37318547048)\n",
      "Step 14: log likelihood: -2935.01655564   (diff=2.34123027403)\n",
      "Step 15: log likelihood: -2933.56541109   (diff=1.45114455759)\n",
      "Step 16: log likelihood: -2932.50329834   (diff=1.06211274104)\n",
      "Step 17: log likelihood: -2931.6131419   (diff=0.890156442188)\n",
      "Step 18: log likelihood: -2930.84316869   (diff=0.769973207313)\n",
      "Step 19: log likelihood: -2930.20869633   (diff=0.634472362919)\n",
      "Step 20: log likelihood: -2929.71403334   (diff=0.494662993972)\n",
      "Step 21: log likelihood: -2929.30273173   (diff=0.411301606659)\n",
      "Step 22: log likelihood: -2928.83515997   (diff=0.467571759812)\n",
      "Step 23: log likelihood: -2928.14892766   (diff=0.686232310017)\n",
      "Step 24: log likelihood: -2927.26750858   (diff=0.881419084902)\n",
      "Step 25: log likelihood: -2926.17741575   (diff=1.09009283025)\n",
      "Step 26: log likelihood: -2924.90417299   (diff=1.27324275228)\n",
      "Step 27: log likelihood: -2923.94720685   (diff=0.95696614857)\n",
      "Step 28: log likelihood: -2923.4871062   (diff=0.460100644041)\n",
      "Step 28: log likelihood: -2923.28954442   (diff=0.197561781967)\n",
      "Convergence reached with log_p -2923.28954442 after 28 steps.\n",
      "classify loglikelihood: -2923.28954442.\n",
      "\n",
      "\n",
      "** Clustering **\n",
      "Cluster  0 , size 30\n",
      "[60, 75, 148, 158, 160, 200, 217, 407, 408, 409, 412, 414, 422, 424, 433, 438, 448, 454, 460, 464, 479, 481, 482, 485, 486, 487, 490, 494, 495, 499] \n",
      "\n",
      "Cluster  1 , size 76\n",
      "[400, 401, 402, 403, 404, 405, 406, 410, 411, 413, 415, 416, 417, 418, 419, 420, 421, 423, 425, 426, 427, 428, 429, 430, 431, 432, 434, 435, 436, 437, 439, 440, 441, 442, 443, 444, 445, 446, 447, 450, 451, 452, 453, 455, 456, 457, 458, 459, 461, 462, 463, 465, 466, 467, 468, 469, 470, 471, 472, 473, 474, 475, 476, 477, 478, 480, 483, 484, 488, 489, 491, 492, 493, 496, 497, 498] \n",
      "\n",
      "Cluster  2 , size 99\n",
      "[135, 141, 186, 300, 301, 302, 303, 304, 305, 306, 307, 308, 309, 310, 311, 313, 314, 315, 316, 317, 318, 319, 320, 321, 323, 324, 325, 326, 327, 328, 330, 331, 332, 333, 334, 335, 336, 337, 338, 339, 340, 341, 342, 343, 344, 345, 346, 347, 348, 349, 350, 351, 352, 353, 354, 355, 356, 358, 359, 360, 361, 362, 363, 364, 365, 366, 367, 368, 369, 370, 371, 372, 373, 374, 375, 376, 377, 378, 379, 380, 381, 382, 383, 384, 385, 386, 387, 388, 389, 390, 391, 392, 393, 394, 395, 396, 397, 398, 399] \n",
      "\n",
      "Cluster  3 , size 295\n",
      "[0, 1, 2, 3, 4, 5, 6, 7, 8, 9, 10, 11, 12, 13, 14, 15, 16, 17, 18, 19, 20, 21, 22, 23, 24, 25, 26, 27, 28, 29, 30, 31, 32, 33, 34, 35, 36, 37, 38, 39, 40, 41, 42, 43, 44, 45, 46, 47, 48, 49, 50, 51, 52, 53, 54, 55, 56, 57, 58, 59, 61, 62, 63, 64, 65, 66, 67, 68, 69, 70, 71, 72, 73, 74, 76, 77, 78, 79, 80, 81, 82, 83, 84, 85, 86, 87, 88, 89, 90, 91, 92, 93, 94, 95, 96, 97, 98, 99, 100, 101, 102, 103, 104, 105, 106, 107, 108, 109, 110, 111, 112, 113, 114, 115, 116, 117, 118, 119, 120, 121, 122, 123, 124, 125, 126, 127, 128, 129, 130, 131, 132, 133, 134, 136, 137, 138, 139, 140, 142, 143, 144, 145, 146, 147, 149, 150, 151, 152, 153, 154, 155, 156, 157, 159, 161, 162, 163, 164, 165, 166, 167, 168, 169, 170, 171, 172, 173, 174, 175, 176, 177, 178, 179, 180, 181, 182, 183, 184, 185, 187, 188, 189, 190, 191, 192, 193, 194, 195, 196, 197, 198, 199, 201, 202, 203, 204, 205, 206, 207, 208, 209, 210, 211, 212, 213, 214, 215, 216, 218, 219, 220, 221, 222, 223, 224, 225, 226, 227, 228, 229, 230, 231, 232, 233, 234, 235, 236, 237, 238, 239, 240, 241, 242, 243, 244, 245, 246, 247, 248, 249, 250, 251, 252, 253, 254, 255, 256, 257, 258, 259, 260, 261, 262, 263, 264, 265, 266, 267, 268, 269, 270, 271, 272, 273, 274, 275, 276, 277, 278, 279, 280, 281, 282, 283, 284, 285, 286, 287, 288, 289, 290, 291, 292, 293, 294, 295, 296, 297, 298, 299, 312, 322, 329, 357, 449] \n",
      "\n",
      "Unassigend due to entropy cutoff:\n",
      "[] \n",
      "\n"
     ]
    },
    {
     "data": {
      "image/png": "[encoded data removed]",
      "text/plain": [
       "<matplotlib.figure.Figure at 0x12018d4d0>"
      ]
     },
     "metadata": {},
     "output_type": "display_data"
    },
    {
     "name": "stdout",
     "output_type": "stream",
     "text": [
      "<ggplot: (303148237)>\n"
     ]
    }
   ],
   "source": [
    "# ----------- #\n",
    "# Test Trajectory Plotting Function & Visual Check of Trajectories\n",
    "# ----------- #\n",
    "d1 = MultiNormalDistribution(4, [0.0, 1.0, 3.0,2.0], \n",
    "                    [[1.0, 0.1, 0.14,0.2], \n",
    "                     [0.8, 1.0, 0.2,0.4], \n",
    "                     [0.5, 0.2, 1.0,0.3], \n",
    "                     [0.1, 0.3, 0.3,1.0]])\n",
    "\n",
    "d2 = MultiNormalDistribution(4, [1.0,0.2, 2.0,4.5], \n",
    "                    [[1.0, 0.3, 0.5,0.0], \n",
    "                     [0.5, 1.0, 0.2, 0.5], \n",
    "                     [0.3, 0.4, 1.0, 0.5],\n",
    "                    [0.3, 0.4, 0.1, 1.0]])\n",
    "\n",
    "d3 = MultiNormalDistribution(4, [3.0,2.0, 1.0,0.0], \n",
    "                    [[1.0, 0.3, 0.5,0.0], \n",
    "                     [0.5, 1.0, 0.2, 0.5], \n",
    "                     [0.3, 0.4, 1.0, 0.5],\n",
    "                    [0.3, 0.4, 0.1, 1.0]])\n",
    "    \n",
    "data1 = d1.sampleSet(300)\n",
    "data2 = d2.sampleSet(100)\n",
    "data3 = d3.sampleSet(100)\n",
    "\n",
    "# print np.array(data1)\n",
    "data3= np.concatenate([data1, data2, data3], axis=0)\n",
    "outs_1 = GBFMM(ng=4, data=data3, s=0)\n",
    "plot_traj(outs_1)"
   ]
  },
  {
   "cell_type": "markdown",
   "metadata": {},
   "source": [
    "# 4) Application and Comparison"
   ]
  },
  {
   "cell_type": "markdown",
   "metadata": {},
   "source": [
    "### Data\n",
    "To apply this algorithm to a real problem on real data, I examine the Adjudicated Toronto Youth Data. The data include the number of criminal court appearances by 378 youth in Toronto. Each individual has 5 years of data, where each row contains the number of unique court contacts per year for an individual from the age of 18 to 23."
   ]
  },
  {
   "cell_type": "markdown",
   "metadata": {},
   "source": [
    "### Comparison\n",
    "I compare the EM algorithm approach to a Bayesian finite mixture written in the probabilistic programming language STAN, and called by the python module pystan. This approach using MCMC instead of the MLE approach based on the EM algorithm."
   ]
  },
  {
   "cell_type": "code",
   "execution_count": 74,
   "metadata": {
    "collapsed": false
   },
   "outputs": [],
   "source": [
    "%%R\n",
    "load(\"/Data/TO1adj.rda\")\n",
    "load(\"/Data/TO1stan.rda\")\n",
    "TO1adj <- TO1adj[,10:15]\n",
    "# Data are located in GitHub Repo in Data Directory"
   ]
  },
  {
   "cell_type": "code",
   "execution_count": 75,
   "metadata": {
    "collapsed": true
   },
   "outputs": [],
   "source": [
    "TO1adj = %R TO1adj\n",
    "TO1stan = %R TO1stan\n",
    "TO1adj = np.array(TO1adj)"
   ]
  },
  {
   "cell_type": "code",
   "execution_count": 76,
   "metadata": {
    "collapsed": false
   },
   "outputs": [
    {
     "name": "stdout",
     "output_type": "stream",
     "text": [
      "Step 1: log likelihood: -5874.69620147   (diff=-5873.69620147)\n",
      "Step 2: log likelihood: -5782.28775531   (diff=92.408446164)\n",
      "Step 3: log likelihood: -5735.37279974   (diff=46.9149555604)\n",
      "Step 4: log likelihood: -5725.59455795   (diff=9.77824179596)\n",
      "Step 5: log likelihood: -5721.56812432   (diff=4.02643363104)\n",
      "Step 6: log likelihood: -5709.27463866   (diff=12.2934856551)\n",
      "Step 7: log likelihood: -5677.63503708   (diff=31.6396015824)\n",
      "Step 8: log likelihood: -5577.26677048   (diff=100.368266603)\n",
      "Step 9: log likelihood: -5360.78622798   (diff=216.480542493)\n",
      "Step 10: log likelihood: -5161.11428695   (diff=199.671941031)\n",
      "Step 11: log likelihood: -4949.69647743   (diff=211.417809524)\n",
      "Step 12: log likelihood: -4864.92774278   (diff=84.7687346443)\n",
      "Step 13: log likelihood: -4837.29260321   (diff=27.63513957)\n",
      "Step 14: log likelihood: -4831.85916386   (diff=5.43343935681)\n",
      "Step 15: log likelihood: -4830.13973582   (diff=1.71942804021)\n",
      "Step 16: log likelihood: -4829.07981934   (diff=1.05991648075)\n",
      "Step 17: log likelihood: -4828.08993193   (diff=0.989887406076)\n",
      "Step 18: log likelihood: -4827.06546163   (diff=1.02447029583)\n",
      "Step 19: log likelihood: -4826.4053168   (diff=0.660144833062)\n",
      "Step 19: log likelihood: -4826.21801076   (diff=0.187306036481)\n",
      "Convergence reached with log_p -4826.21801076 after 19 steps.\n",
      "classify loglikelihood: -4826.21801076.\n",
      "\n",
      "\n",
      "** Clustering **\n",
      "Cluster  0 , size 134\n",
      "[3, 4, 6, 7, 14, 19, 25, 32, 35, 37, 40, 51, 53, 55, 56, 58, 61, 64, 65, 66, 68, 72, 75, 78, 80, 85, 88, 93, 102, 104, 106, 107, 109, 114, 116, 117, 119, 120, 122, 124, 128, 133, 135, 139, 140, 146, 147, 148, 150, 151, 152, 154, 155, 156, 158, 162, 167, 168, 171, 173, 174, 176, 177, 186, 187, 190, 191, 195, 196, 198, 199, 200, 203, 204, 205, 206, 210, 212, 214, 216, 217, 218, 219, 220, 230, 233, 234, 238, 241, 249, 250, 256, 258, 259, 261, 263, 270, 273, 275, 276, 280, 283, 291, 296, 297, 300, 304, 305, 309, 310, 313, 316, 317, 321, 325, 327, 328, 333, 337, 340, 341, 344, 345, 346, 347, 351, 355, 361, 365, 369, 370, 373, 375, 376] \n",
      "\n",
      "Cluster  1 , size 244\n",
      "[0, 1, 2, 5, 8, 9, 10, 11, 12, 13, 15, 16, 17, 18, 20, 21, 22, 23, 24, 26, 27, 28, 29, 30, 31, 33, 34, 36, 38, 39, 41, 42, 43, 44, 45, 46, 47, 48, 49, 50, 52, 54, 57, 59, 60, 62, 63, 67, 69, 70, 71, 73, 74, 76, 77, 79, 81, 82, 83, 84, 86, 87, 89, 90, 91, 92, 94, 95, 96, 97, 98, 99, 100, 101, 103, 105, 108, 110, 111, 112, 113, 115, 118, 121, 123, 125, 126, 127, 129, 130, 131, 132, 134, 136, 137, 138, 141, 142, 143, 144, 145, 149, 153, 157, 159, 160, 161, 163, 164, 165, 166, 169, 170, 172, 175, 178, 179, 180, 181, 182, 183, 184, 185, 188, 189, 192, 193, 194, 197, 201, 202, 207, 208, 209, 211, 213, 215, 221, 222, 223, 224, 225, 226, 227, 228, 229, 231, 232, 235, 236, 237, 239, 240, 242, 243, 244, 245, 246, 247, 248, 251, 252, 253, 254, 255, 257, 260, 262, 264, 265, 266, 267, 268, 269, 271, 272, 274, 277, 278, 279, 281, 282, 284, 285, 286, 287, 288, 289, 290, 292, 293, 294, 295, 298, 299, 301, 302, 303, 306, 307, 308, 311, 312, 314, 315, 318, 319, 320, 322, 323, 324, 326, 329, 330, 331, 332, 334, 335, 336, 338, 339, 342, 343, 348, 349, 350, 352, 353, 354, 356, 357, 358, 359, 360, 362, 363, 364, 366, 367, 368, 371, 372, 374, 377] \n",
      "\n",
      "Unassigend due to entropy cutoff:\n",
      "[] \n",
      "\n"
     ]
    }
   ],
   "source": [
    "outs = GBFMM(2,TO1adj)"
   ]
  },
  {
   "cell_type": "code",
   "execution_count": 77,
   "metadata": {
    "collapsed": false
   },
   "outputs": [
    {
     "data": {
      "image/png": "[encoded data removed]",
      "text/plain": [
       "<matplotlib.figure.Figure at 0x11a5fc1d0>"
      ]
     },
     "metadata": {},
     "output_type": "display_data"
    },
    {
     "name": "stdout",
     "output_type": "stream",
     "text": [
      "<ggplot: (308464657)>\n"
     ]
    }
   ],
   "source": [
    "plot_traj(outs)"
   ]
  },
  {
   "cell_type": "markdown",
   "metadata": {},
   "source": [
    "### Results\n",
    "The EM based finite mixture algorithm has identified two clustered trajectories. The red shows a cluster of youth who are coming into contact with criminal courts frequently over this five year period. The blue line shows a low risk trajectory.\n",
    "\n",
    "Now let's try the MCMC approach:"
   ]
  },
  {
   "cell_type": "code",
   "execution_count": 97,
   "metadata": {
    "collapsed": false
   },
   "source": [
    "model_code = \"\"\"\n",
    "data {\n",
    "  int<lower=1> K;                                                  # K components\n",
    "  int<lower=1> N;                                                  # N observations\n",
    "  real y[N];                                                       # variable of interest\n",
    "}\n",
    "parameters {\n",
    "  simplex[K] theta;                                                # mixing proportions\n",
    "  simplex[K] mu_prop;\n",
    "  real mu_loc;\n",
    "  real<lower=0> mu_scale;\n",
    "  real<lower=0> sigma[K];                                          # sds of the components\n",
    "}\n",
    "transformed parameters {\n",
    "  ordered[K] mu;\n",
    "  mu <- mu_loc + mu_scale * cumulative_sum(mu_prop);               # means of the components\n",
    "}\n",
    "model {\n",
    "  // prior\n",
    "  mu_loc ~ cauchy(0,5);\n",
    "  mu_scale ~ cauchy(0,5);\n",
    "  sigma ~ cauchy(0,5);\n",
    "  // likelihood\n",
    "  {\n",
    "    real ps[K];\n",
    "    vector[K] log_theta;\n",
    "    log_theta <- log(theta);\n",
    "    for (n in 1:N) {\n",
    "      for (k in 1:K) {\n",
    "        ps[k] <- log_theta[k]\n",
    "                 + normal_log(y[n],mu[k],sigma[k]);\n",
    "      }\n",
    "      increment_log_prob(log_sum_exp(ps));\n",
    "    }\n",
    "  }\n",
    "}\n",
    "\"\"\"\n",
    "\n",
    "dat = {\n",
    "    'K': 2,\n",
    "    'N': len(np.array(TO1stan)),\n",
    "    'y': np.array(TO1stan),\n",
    "}\n",
    "\n",
    "fit = pystan.stan(model_code=model_code, data=dat, iter=1000, chains=2)"
   ]
  },
  {
   "cell_type": "code",
   "execution_count": 98,
   "metadata": {
    "collapsed": false
   },
   "outputs": [
    {
     "name": "stdout",
     "output_type": "stream",
     "text": [
      "Inference for Stan model: anon_model_0ea983c07018240174b20728e647dd40.\n",
      "2 chains, each with iter=1000; warmup=500; thin=1; \n",
      "post-warmup draws per chain=500, total post-warmup draws=1000.\n",
      "\n",
      "             mean se_mean     sd   2.5%    25%    50%    75%  97.5%  n_eff   Rhat\n",
      "theta[0]     0.35  1.9e-3   0.03   0.29   0.33   0.35   0.37   0.41  257.0    1.0\n",
      "theta[1]     0.65  1.9e-3   0.03   0.59   0.63   0.65   0.67   0.71  257.0    1.0\n",
      "mu_prop[0]   0.38    0.02    0.2   0.02   0.21   0.38   0.54   0.72   79.0    1.0\n",
      "mu_prop[1]   0.62    0.02    0.2   0.28   0.46   0.62   0.79   0.98   79.0    1.0\n",
      "mu_loc        0.2    0.18   1.53  -3.61  -0.67   0.61   1.43   1.98   74.0    1.0\n",
      "mu_scale     4.08    0.18   1.53   2.29   2.86   3.68   4.95   7.86   74.0    1.0\n",
      "sigma[0]     0.25  1.4e-3   0.02    0.2   0.23   0.24   0.26   0.29  268.0    1.0\n",
      "sigma[1]     0.44  1.7e-3   0.03   0.39   0.42   0.44   0.45   0.49  244.0    1.0\n",
      "mu[0]        2.02  1.5e-3   0.03   1.97   2.01   2.02   2.04   2.08  306.0    1.0\n",
      "mu[1]        4.28  1.9e-3   0.03    4.2   4.25   4.28    4.3   4.34  319.0    1.0\n",
      "lp__       -283.6    0.13   1.75 -288.0 -284.5 -283.2 -282.3 -281.2  182.0    1.0\n",
      "\n",
      "Samples were drawn using NUTS(diag_e) at Thu Apr 30 15:29:21 2015.\n",
      "For each parameter, n_eff is a crude measure of effective sample size,\n",
      "and Rhat is the potential scale reduction factor on split chains (at \n",
      "convergence, Rhat=1).\n"
     ]
    }
   ],
   "source": [
    "print fit"
   ]
  },
  {
   "cell_type": "markdown",
   "metadata": {},
   "source": [
    "### Results\n",
    "While similar inferences can be drawn from this MCMC method, and I would argue in many cases the Bayesian results are more robust, convergence time is much slower. For mixture model problems where the underlying structure is not incredibly complex, the EM algorithm employed by the Group-Based Finite Mixture Model may be more practical."
   ]
  }
 ],
 "metadata": {
  "kernelspec": {
   "display_name": "Python 2",
   "language": "python",
   "name": "python2"
  },
  "language_info": {
   "codemirror_mode": {
    "name": "ipython",
    "version": 2
   },
   "file_extension": ".py",
   "mimetype": "text/x-python",
   "name": "python",
   "nbconvert_exporter": "python",
   "pygments_lexer": "ipython2",
   "version": "2.7.9"
  }
 },
 "nbformat": 4,
 "nbformat_minor": 0
}
