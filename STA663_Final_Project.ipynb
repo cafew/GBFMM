{
 "cells": [
  {
   "cell_type": "markdown",
   "metadata": {},
   "source": [
    "# 1) Background"
   ]
  },
  {
   "cell_type": "markdown",
   "metadata": {},
   "source": [
    "### Outline of Algorithm: \n",
    "\n",
    "The paper I have chosen describes a type of finite mixture algorithm, one for modeling patterns of an outcome of interest as clusters across time. The method is termed by the authors as Group-based Latent Trajectory Modeling, and was developed by Daniel Nagin in 1999.\n",
    "\n",
    "The general specification for the group based latent trajectory models is provided in equations (1) and (2). Once the researcher specifies the number of trajectories, $j$, the conditional distribution of the data for individual $i$, $y_(i )$, across his or her life is a function of time invariant covariates $z_i$ and a time varying covariate $x_i$ as specified in equation (1). The time-stable covariates, listed in the methods section as the conditioning variables $(z_i)$, calculated the same across all models—the effect of these covariates on group membership is specified as a generalized logit function in equation (2). College enrollment $(x_i)$, the time varying covariate in these models, affects the shape of trajectories and it is different for the count and binary data.\n",
    "\n",
    "$$f(y_i, x_i) = \\sum_{j}^p \\text{P}(V_i=j | Z_i=z_i) \\text{P}(Y_i=y_i|V_j, X_i=x_i)\\tag{1}$$\n",
    "\n",
    "$$\\text{P}(V_i=j | Z_i=z_i) = \\frac{e^{\\theta_k + \\lambda_k z_i}}{\\sum_{j}^p e^{\\theta_k + \\lambda_k z_i}}\\tag{2}$$"
   ]
  },
  {
   "cell_type": "markdown",
   "metadata": {},
   "source": [
    "## Readme for Python Module: \n",
    "\n",
    "### Group-Based Finite Mixture Models: A Latent Trajectory Approach \n",
    "\n",
    "**Code for course project use only at this time.**\n",
    "\n",
    "Final project for STA 663 \n",
    "* Takes time variable and continuous outcome \n",
    "* Generates latent trajectories (time-dependent clusters) of outcome behavior over time \n",
    "\n",
    "**Dependencies**\n",
    "\n",
    "Required\n",
    "\n",
    "* Python (created using 2.7.x)\n",
    "* Numpy\n",
    "* Scipy \n",
    "* Pymix (https://github.com/klahnakoski/pymix.git)\n",
    "\n",
    "**Recommended**\n",
    "\n",
    "* ggplot (for trajectory plotting function included in the repository)\n",
    "* pandas (for trajectory plotting function included in the repository)\n",
    "* STAN (for Bayesian alternative specification)\n",
    "* pystan (for Bayesian alternative specification)"
   ]
  },
  {
   "cell_type": "markdown",
   "metadata": {},
   "source": [
    "## 2) Implementation"
   ]
  },
  {
   "cell_type": "markdown",
   "metadata": {},
   "source": [
    "## Testing"
   ]
  },
  {
   "cell_type": "markdown",
   "metadata": {},
   "source": [
    "## Application and comparison"
   ]
  }
 ],
 "metadata": {
  "kernelspec": {
   "display_name": "Python 2",
   "language": "python",
   "name": "python2"
  },
  "language_info": {
   "codemirror_mode": {
    "name": "ipython",
    "version": 2
   },
   "file_extension": ".py",
   "mimetype": "text/x-python",
   "name": "python",
   "nbconvert_exporter": "python",
   "pygments_lexer": "ipython2",
   "version": "2.7.9"
  }
 },
 "nbformat": 4,
 "nbformat_minor": 0
}
